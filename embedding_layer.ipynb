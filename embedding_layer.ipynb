{
 "cells": [
  {
   "cell_type": "code",
   "execution_count": 1,
   "metadata": {},
   "outputs": [
    {
     "name": "stdout",
     "output_type": "stream",
     "text": [
      "tf.Tensor(-2691.5884, shape=(), dtype=float32)\n"
     ]
    }
   ],
   "source": [
    "import tensorflow as tf\n",
    "print(tf.reduce_sum(tf.random.normal([1000, 1000])))"
   ]
  },
  {
   "cell_type": "code",
   "execution_count": 2,
   "metadata": {},
   "outputs": [
    {
     "name": "stdout",
     "output_type": "stream",
     "text": [
      "[PhysicalDevice(name='/physical_device:GPU:0', device_type='GPU')]\n"
     ]
    }
   ],
   "source": [
    "print(tf.config.list_physical_devices('GPU'))"
   ]
  },
  {
   "cell_type": "code",
   "execution_count": 3,
   "metadata": {},
   "outputs": [
    {
     "name": "stdout",
     "output_type": "stream",
     "text": [
      "Mon Dec 23 02:54:07 2024       \n",
      "+-----------------------------------------------------------------------------------------+\n",
      "| NVIDIA-SMI 566.03                 Driver Version: 566.03         CUDA Version: 12.7     |\n",
      "|-----------------------------------------+------------------------+----------------------+\n",
      "| GPU  Name                  Driver-Model | Bus-Id          Disp.A | Volatile Uncorr. ECC |\n",
      "| Fan  Temp   Perf          Pwr:Usage/Cap |           Memory-Usage | GPU-Util  Compute M. |\n",
      "|                                         |                        |               MIG M. |\n",
      "|=========================================+========================+======================|\n",
      "|   0  NVIDIA GeForce RTX 4090      WDDM  |   00000000:01:00.0  On |                  Off |\n",
      "|  0%   42C    P8             27W /  450W |   23610MiB /  24564MiB |      3%      Default |\n",
      "|                                         |                        |                  N/A |\n",
      "+-----------------------------------------+------------------------+----------------------+\n",
      "                                                                                         \n",
      "+-----------------------------------------------------------------------------------------+\n",
      "| Processes:                                                                              |\n",
      "|  GPU   GI   CI        PID   Type   Process name                              GPU Memory |\n",
      "|        ID   ID                                                               Usage      |\n",
      "|=========================================================================================|\n",
      "|    0   N/A  N/A      3856    C+G   ...GeForce Experience\\NVIDIA Share.exe      N/A      |\n",
      "|    0   N/A  N/A      4572    C+G   ...2txyewy\\StartMenuExperienceHost.exe      N/A      |\n",
      "|    0   N/A  N/A      4592    C+G   ...nt.CBS_cw5n1h2txyewy\\SearchHost.exe      N/A      |\n",
      "|    0   N/A  N/A      5296    C+G   D:\\Microsoft VS Code\\Code.exe               N/A      |\n",
      "|    0   N/A  N/A      8736    C+G   ...64__8wekyb3d8bbwe\\CalculatorApp.exe      N/A      |\n",
      "|    0   N/A  N/A      9348    C+G   ...1.0_x64__8wekyb3d8bbwe\\Video.UI.exe      N/A      |\n",
      "|    0   N/A  N/A      9524      C   ...s\\User\\anaconda3\\envs\\tf\\python.exe      N/A      |\n",
      "|    0   N/A  N/A      9616    C+G   C:\\Windows\\explorer.exe                     N/A      |\n",
      "|    0   N/A  N/A     11564    C+G   ...GeForce Experience\\NVIDIA Share.exe      N/A      |\n",
      "|    0   N/A  N/A     12300    C+G   ...ekyb3d8bbwe\\PhoneExperienceHost.exe      N/A      |\n",
      "|    0   N/A  N/A     12788    C+G   ...5n1h2txyewy\\ShellExperienceHost.exe      N/A      |\n",
      "|    0   N/A  N/A     13440    C+G   ...a09mmv6hy\\Build\\Plugins\\Mpv\\mpv.exe      N/A      |\n",
      "|    0   N/A  N/A     14152    C+G   ...CBS_cw5n1h2txyewy\\TextInputHost.exe      N/A      |\n",
      "|    0   N/A  N/A     14532    C+G   ...al\\Discord\\app-1.0.9175\\Discord.exe      N/A      |\n",
      "|    0   N/A  N/A     14600    C+G   ...les\\Microsoft OneDrive\\OneDrive.exe      N/A      |\n",
      "|    0   N/A  N/A     16344    C+G   ...oogle\\Chrome\\Application\\chrome.exe      N/A      |\n",
      "|    0   N/A  N/A     17344    C+G   ...\\cef\\cef.win7x64\\steamwebhelper.exe      N/A      |\n",
      "|    0   N/A  N/A     18344    C+G   ...x64__97hta09mmv6hy\\Build\\Lively.exe      N/A      |\n",
      "|    0   N/A  N/A     18576    C+G   ...64__v826wp6bftszj\\TranslucentTB.exe      N/A      |\n",
      "|    0   N/A  N/A     19760    C+G   ...38.0_x64__zpdnekdrzrea0\\Spotify.exe      N/A      |\n",
      "|    0   N/A  N/A     23480    C+G   ...oogle\\Chrome\\Application\\chrome.exe      N/A      |\n",
      "|    0   N/A  N/A     25372    C+G   ...n\\131.0.2903.112\\msedgewebview2.exe      N/A      |\n",
      "+-----------------------------------------------------------------------------------------+\n"
     ]
    }
   ],
   "source": [
    "!nvidia-smi"
   ]
  },
  {
   "cell_type": "code",
   "execution_count": 4,
   "metadata": {},
   "outputs": [],
   "source": [
    "from tensorflow.keras.preprocessing.text import one_hot"
   ]
  },
  {
   "cell_type": "code",
   "execution_count": 5,
   "metadata": {},
   "outputs": [],
   "source": [
    "sent = [\"the glass of milk\",\n",
    "        \"the glass of juice\",\n",
    "        \"the cup of tea\",\n",
    "        \"your videos are good\"]"
   ]
  },
  {
   "cell_type": "code",
   "execution_count": 10,
   "metadata": {},
   "outputs": [],
   "source": [
    "voc_size = 10000"
   ]
  },
  {
   "cell_type": "code",
   "execution_count": 11,
   "metadata": {},
   "outputs": [
    {
     "data": {
      "text/plain": [
       "[[9189, 6685, 1457, 758],\n",
       " [9189, 6685, 1457, 276],\n",
       " [9189, 3867, 1457, 1455],\n",
       " [2165, 8639, 3350, 4990]]"
      ]
     },
     "execution_count": 11,
     "metadata": {},
     "output_type": "execute_result"
    }
   ],
   "source": [
    "one_hot_rep=[one_hot(words,voc_size) for words in sent]\n",
    "one_hot_rep"
   ]
  },
  {
   "cell_type": "code",
   "execution_count": 12,
   "metadata": {},
   "outputs": [],
   "source": [
    "from tensorflow.keras.layers import Embedding\n",
    "from tensorflow.keras.preprocessing.sequence import pad_sequences\n",
    "from tensorflow.keras.models import Sequential"
   ]
  },
  {
   "cell_type": "code",
   "execution_count": 13,
   "metadata": {},
   "outputs": [],
   "source": [
    "import numpy as np"
   ]
  },
  {
   "cell_type": "code",
   "execution_count": 16,
   "metadata": {},
   "outputs": [
    {
     "data": {
      "text/plain": [
       "array([[   0,    0,    0,    0, 9189, 6685, 1457,  758],\n",
       "       [   0,    0,    0,    0, 9189, 6685, 1457,  276],\n",
       "       [   0,    0,    0,    0, 9189, 3867, 1457, 1455],\n",
       "       [   0,    0,    0,    0, 2165, 8639, 3350, 4990]])"
      ]
     },
     "execution_count": 16,
     "metadata": {},
     "output_type": "execute_result"
    }
   ],
   "source": [
    "max_sent_length = 8\n",
    "embedded_docs = pad_sequences(one_hot_rep, padding=\"pre\", maxlen=max_sent_length)\n",
    "embedded_docs"
   ]
  },
  {
   "cell_type": "code",
   "execution_count": 17,
   "metadata": {},
   "outputs": [],
   "source": [
    "## feature representation\n",
    "## initializing 10 features for each words\n",
    "dim = 10"
   ]
  },
  {
   "cell_type": "code",
   "execution_count": 18,
   "metadata": {},
   "outputs": [],
   "source": [
    "model = Sequential()\n",
    "model.add(Embedding(voc_size,dim,input_length=max_sent_length))\n",
    "model.compile('adam','mse')"
   ]
  },
  {
   "cell_type": "code",
   "execution_count": 19,
   "metadata": {},
   "outputs": [
    {
     "name": "stdout",
     "output_type": "stream",
     "text": [
      "Model: \"sequential\"\n",
      "_________________________________________________________________\n",
      " Layer (type)                Output Shape              Param #   \n",
      "=================================================================\n",
      " embedding (Embedding)       (None, 8, 10)             100000    \n",
      "                                                                 \n",
      "=================================================================\n",
      "Total params: 100,000\n",
      "Trainable params: 100,000\n",
      "Non-trainable params: 0\n",
      "_________________________________________________________________\n"
     ]
    }
   ],
   "source": [
    "model.summary()"
   ]
  },
  {
   "cell_type": "code",
   "execution_count": 20,
   "metadata": {},
   "outputs": [
    {
     "name": "stdout",
     "output_type": "stream",
     "text": [
      "1/1 [==============================] - 0s 84ms/step\n"
     ]
    },
    {
     "data": {
      "text/plain": [
       "array([[[-4.9403585e-02, -3.2532960e-05,  4.8411004e-03, -4.5076385e-03,\n",
       "          4.5721773e-02,  1.4659081e-02,  4.7269035e-02,  2.4916138e-02,\n",
       "         -7.4906275e-04,  3.3222269e-02],\n",
       "        [-4.9403585e-02, -3.2532960e-05,  4.8411004e-03, -4.5076385e-03,\n",
       "          4.5721773e-02,  1.4659081e-02,  4.7269035e-02,  2.4916138e-02,\n",
       "         -7.4906275e-04,  3.3222269e-02],\n",
       "        [-4.9403585e-02, -3.2532960e-05,  4.8411004e-03, -4.5076385e-03,\n",
       "          4.5721773e-02,  1.4659081e-02,  4.7269035e-02,  2.4916138e-02,\n",
       "         -7.4906275e-04,  3.3222269e-02],\n",
       "        [-4.9403585e-02, -3.2532960e-05,  4.8411004e-03, -4.5076385e-03,\n",
       "          4.5721773e-02,  1.4659081e-02,  4.7269035e-02,  2.4916138e-02,\n",
       "         -7.4906275e-04,  3.3222269e-02],\n",
       "        [ 1.5033964e-02, -9.9130496e-03,  4.2521823e-02,  3.2550205e-02,\n",
       "         -3.8831413e-02, -1.5732132e-02,  9.7914934e-03, -2.1204328e-02,\n",
       "         -4.7597315e-02,  6.2309131e-03],\n",
       "        [-1.6256429e-02,  3.9760474e-02, -3.5141818e-03, -3.9246988e-02,\n",
       "         -3.4406733e-02, -4.2246293e-02, -3.3570100e-02, -3.1785846e-02,\n",
       "          3.1517949e-02, -1.6400494e-02],\n",
       "        [ 4.6720672e-02,  8.2158670e-03,  2.9225435e-02,  2.9521439e-02,\n",
       "          1.3219118e-03,  2.2769663e-02,  1.7626572e-02,  2.1265853e-02,\n",
       "         -3.4932923e-02, -1.0937430e-02],\n",
       "        [ 1.9108485e-02,  6.2434785e-03, -2.9443419e-02, -2.2168577e-02,\n",
       "         -5.6353211e-03, -8.2849748e-03,  2.1424089e-02, -1.6134847e-02,\n",
       "          2.4496447e-02, -8.7453835e-03]],\n",
       "\n",
       "       [[-4.9403585e-02, -3.2532960e-05,  4.8411004e-03, -4.5076385e-03,\n",
       "          4.5721773e-02,  1.4659081e-02,  4.7269035e-02,  2.4916138e-02,\n",
       "         -7.4906275e-04,  3.3222269e-02],\n",
       "        [-4.9403585e-02, -3.2532960e-05,  4.8411004e-03, -4.5076385e-03,\n",
       "          4.5721773e-02,  1.4659081e-02,  4.7269035e-02,  2.4916138e-02,\n",
       "         -7.4906275e-04,  3.3222269e-02],\n",
       "        [-4.9403585e-02, -3.2532960e-05,  4.8411004e-03, -4.5076385e-03,\n",
       "          4.5721773e-02,  1.4659081e-02,  4.7269035e-02,  2.4916138e-02,\n",
       "         -7.4906275e-04,  3.3222269e-02],\n",
       "        [-4.9403585e-02, -3.2532960e-05,  4.8411004e-03, -4.5076385e-03,\n",
       "          4.5721773e-02,  1.4659081e-02,  4.7269035e-02,  2.4916138e-02,\n",
       "         -7.4906275e-04,  3.3222269e-02],\n",
       "        [ 1.5033964e-02, -9.9130496e-03,  4.2521823e-02,  3.2550205e-02,\n",
       "         -3.8831413e-02, -1.5732132e-02,  9.7914934e-03, -2.1204328e-02,\n",
       "         -4.7597315e-02,  6.2309131e-03],\n",
       "        [-1.6256429e-02,  3.9760474e-02, -3.5141818e-03, -3.9246988e-02,\n",
       "         -3.4406733e-02, -4.2246293e-02, -3.3570100e-02, -3.1785846e-02,\n",
       "          3.1517949e-02, -1.6400494e-02],\n",
       "        [ 4.6720672e-02,  8.2158670e-03,  2.9225435e-02,  2.9521439e-02,\n",
       "          1.3219118e-03,  2.2769663e-02,  1.7626572e-02,  2.1265853e-02,\n",
       "         -3.4932923e-02, -1.0937430e-02],\n",
       "        [-3.3493474e-02, -3.5630248e-02, -6.6879503e-03,  3.7399862e-02,\n",
       "         -2.4132872e-02, -2.3537373e-02, -2.8057480e-02, -4.6154484e-03,\n",
       "          4.0385175e-02, -4.8650909e-02]],\n",
       "\n",
       "       [[-4.9403585e-02, -3.2532960e-05,  4.8411004e-03, -4.5076385e-03,\n",
       "          4.5721773e-02,  1.4659081e-02,  4.7269035e-02,  2.4916138e-02,\n",
       "         -7.4906275e-04,  3.3222269e-02],\n",
       "        [-4.9403585e-02, -3.2532960e-05,  4.8411004e-03, -4.5076385e-03,\n",
       "          4.5721773e-02,  1.4659081e-02,  4.7269035e-02,  2.4916138e-02,\n",
       "         -7.4906275e-04,  3.3222269e-02],\n",
       "        [-4.9403585e-02, -3.2532960e-05,  4.8411004e-03, -4.5076385e-03,\n",
       "          4.5721773e-02,  1.4659081e-02,  4.7269035e-02,  2.4916138e-02,\n",
       "         -7.4906275e-04,  3.3222269e-02],\n",
       "        [-4.9403585e-02, -3.2532960e-05,  4.8411004e-03, -4.5076385e-03,\n",
       "          4.5721773e-02,  1.4659081e-02,  4.7269035e-02,  2.4916138e-02,\n",
       "         -7.4906275e-04,  3.3222269e-02],\n",
       "        [ 1.5033964e-02, -9.9130496e-03,  4.2521823e-02,  3.2550205e-02,\n",
       "         -3.8831413e-02, -1.5732132e-02,  9.7914934e-03, -2.1204328e-02,\n",
       "         -4.7597315e-02,  6.2309131e-03],\n",
       "        [ 2.7841378e-02,  1.0487903e-02, -3.0216802e-02,  5.4372549e-03,\n",
       "         -3.6421668e-02,  9.2555508e-03,  2.6271727e-02, -4.6281565e-02,\n",
       "          4.1572873e-02, -3.1235702e-03],\n",
       "        [ 4.6720672e-02,  8.2158670e-03,  2.9225435e-02,  2.9521439e-02,\n",
       "          1.3219118e-03,  2.2769663e-02,  1.7626572e-02,  2.1265853e-02,\n",
       "         -3.4932923e-02, -1.0937430e-02],\n",
       "        [-3.2799352e-02, -6.1110854e-03, -4.8587192e-02,  3.4717891e-02,\n",
       "          3.0074183e-02, -1.0110512e-03,  2.2780646e-02, -2.5071613e-03,\n",
       "         -4.9630810e-02, -2.3653304e-02]],\n",
       "\n",
       "       [[-4.9403585e-02, -3.2532960e-05,  4.8411004e-03, -4.5076385e-03,\n",
       "          4.5721773e-02,  1.4659081e-02,  4.7269035e-02,  2.4916138e-02,\n",
       "         -7.4906275e-04,  3.3222269e-02],\n",
       "        [-4.9403585e-02, -3.2532960e-05,  4.8411004e-03, -4.5076385e-03,\n",
       "          4.5721773e-02,  1.4659081e-02,  4.7269035e-02,  2.4916138e-02,\n",
       "         -7.4906275e-04,  3.3222269e-02],\n",
       "        [-4.9403585e-02, -3.2532960e-05,  4.8411004e-03, -4.5076385e-03,\n",
       "          4.5721773e-02,  1.4659081e-02,  4.7269035e-02,  2.4916138e-02,\n",
       "         -7.4906275e-04,  3.3222269e-02],\n",
       "        [-4.9403585e-02, -3.2532960e-05,  4.8411004e-03, -4.5076385e-03,\n",
       "          4.5721773e-02,  1.4659081e-02,  4.7269035e-02,  2.4916138e-02,\n",
       "         -7.4906275e-04,  3.3222269e-02],\n",
       "        [ 1.8782701e-02, -2.7546002e-02, -4.7717322e-02, -2.0143017e-03,\n",
       "         -4.0211655e-02,  3.8007524e-02,  3.4587447e-02, -2.1844134e-03,\n",
       "          4.4183422e-02,  3.8286414e-02],\n",
       "        [ 1.5069354e-02,  4.3174673e-02, -1.2523912e-02,  4.6031959e-03,\n",
       "         -1.5676580e-02, -3.0712038e-04, -4.2781711e-02,  8.6551420e-03,\n",
       "         -4.7138669e-02,  2.7603619e-03],\n",
       "        [ 3.3629987e-02,  2.6523899e-02,  1.7997134e-02,  1.8152464e-02,\n",
       "          4.7605243e-02, -3.2950304e-02,  8.7016225e-03, -1.5064836e-02,\n",
       "         -2.0928001e-02, -2.8800596e-02],\n",
       "        [-7.2455406e-04,  3.6353555e-02,  1.0224797e-02,  7.6822191e-04,\n",
       "          1.3828669e-02,  4.6172764e-02, -3.5554878e-03, -3.5111986e-02,\n",
       "         -4.3632340e-02,  2.4537612e-02]]], dtype=float32)"
      ]
     },
     "execution_count": 20,
     "metadata": {},
     "output_type": "execute_result"
    }
   ],
   "source": [
    "model.predict(embedded_docs)"
   ]
  },
  {
   "cell_type": "code",
   "execution_count": 21,
   "metadata": {},
   "outputs": [
    {
     "data": {
      "text/plain": [
       "array([   0,    0,    0,    0, 9189, 6685, 1457,  758])"
      ]
     },
     "execution_count": 21,
     "metadata": {},
     "output_type": "execute_result"
    }
   ],
   "source": [
    "embedded_docs[0]"
   ]
  },
  {
   "cell_type": "code",
   "execution_count": 22,
   "metadata": {},
   "outputs": [
    {
     "name": "stdout",
     "output_type": "stream",
     "text": [
      "1/1 [==============================] - 0s 18ms/step\n"
     ]
    },
    {
     "data": {
      "text/plain": [
       "array([[-4.9403585e-02, -3.2532960e-05,  4.8411004e-03, -4.5076385e-03,\n",
       "         4.5721773e-02,  1.4659081e-02,  4.7269035e-02,  2.4916138e-02,\n",
       "        -7.4906275e-04,  3.3222269e-02],\n",
       "       [-4.9403585e-02, -3.2532960e-05,  4.8411004e-03, -4.5076385e-03,\n",
       "         4.5721773e-02,  1.4659081e-02,  4.7269035e-02,  2.4916138e-02,\n",
       "        -7.4906275e-04,  3.3222269e-02],\n",
       "       [-4.9403585e-02, -3.2532960e-05,  4.8411004e-03, -4.5076385e-03,\n",
       "         4.5721773e-02,  1.4659081e-02,  4.7269035e-02,  2.4916138e-02,\n",
       "        -7.4906275e-04,  3.3222269e-02],\n",
       "       [-4.9403585e-02, -3.2532960e-05,  4.8411004e-03, -4.5076385e-03,\n",
       "         4.5721773e-02,  1.4659081e-02,  4.7269035e-02,  2.4916138e-02,\n",
       "        -7.4906275e-04,  3.3222269e-02],\n",
       "       [ 1.5033964e-02, -9.9130496e-03,  4.2521823e-02,  3.2550205e-02,\n",
       "        -3.8831413e-02, -1.5732132e-02,  9.7914934e-03, -2.1204328e-02,\n",
       "        -4.7597315e-02,  6.2309131e-03],\n",
       "       [-1.6256429e-02,  3.9760474e-02, -3.5141818e-03, -3.9246988e-02,\n",
       "        -3.4406733e-02, -4.2246293e-02, -3.3570100e-02, -3.1785846e-02,\n",
       "         3.1517949e-02, -1.6400494e-02],\n",
       "       [ 4.6720672e-02,  8.2158670e-03,  2.9225435e-02,  2.9521439e-02,\n",
       "         1.3219118e-03,  2.2769663e-02,  1.7626572e-02,  2.1265853e-02,\n",
       "        -3.4932923e-02, -1.0937430e-02],\n",
       "       [ 1.9108485e-02,  6.2434785e-03, -2.9443419e-02, -2.2168577e-02,\n",
       "        -5.6353211e-03, -8.2849748e-03,  2.1424089e-02, -1.6134847e-02,\n",
       "         2.4496447e-02, -8.7453835e-03]], dtype=float32)"
      ]
     },
     "execution_count": 22,
     "metadata": {},
     "output_type": "execute_result"
    }
   ],
   "source": [
    "model.predict(embedded_docs[0])"
   ]
  },
  {
   "cell_type": "code",
   "execution_count": null,
   "metadata": {},
   "outputs": [],
   "source": []
  }
 ],
 "metadata": {
  "kernelspec": {
   "display_name": "tf",
   "language": "python",
   "name": "python3"
  },
  "language_info": {
   "codemirror_mode": {
    "name": "ipython",
    "version": 3
   },
   "file_extension": ".py",
   "mimetype": "text/x-python",
   "name": "python",
   "nbconvert_exporter": "python",
   "pygments_lexer": "ipython3",
   "version": "3.10.16"
  }
 },
 "nbformat": 4,
 "nbformat_minor": 2
}
